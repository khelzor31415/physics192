{
 "cells": [
  {
   "cell_type": "markdown",
   "metadata": {},
   "source": [
    "# Data"
   ]
  },
  {
   "cell_type": "code",
   "execution_count": 7,
   "metadata": {},
   "outputs": [],
   "source": [
    "s =[9.95,\n",
    " 9.82,\n",
    " 9.9,\n",
    " 9.87,\n",
    " 9.97,\n",
    " 10.13,\n",
    " 10.01,\n",
    " 9.97,\n",
    " 10.07,\n",
    " 10.01,\n",
    " 10.06,\n",
    " 9.98,\n",
    " 10.06,\n",
    " 10.14,\n",
    " 10.02,\n",
    " 10.01,\n",
    " 10.21,\n",
    " 10.28,\n",
    " 10.1,\n",
    " 9.97,\n",
    " 9.92,\n",
    " 9.95,\n",
    " 10.04,\n",
    " 9.93,\n",
    " 10.02,\n",
    " 9.95,\n",
    " 10.07,\n",
    " 10.06,\n",
    " 10.04,\n",
    " 10.02,\n",
    " 10.01,\n",
    " 10.07,\n",
    " 9.99,\n",
    " 10.03,\n",
    " 9.96,\n",
    " 10.09,\n",
    " 10.04,\n",
    " 10.29,\n",
    " 10.17,\n",
    " 9.95,\n",
    " 10.0,\n",
    " 9.95,\n",
    " 9.88,\n",
    " 10.16,\n",
    " 9.97,\n",
    " 10.15,\n",
    " 10.03,\n",
    " 9.96,\n",
    " 9.96,\n",
    " 10.02,\n",
    " 9.93,\n",
    " 9.95,\n",
    " 9.97,\n",
    " 10.17,\n",
    " 10.01,\n",
    " 9.96,\n",
    " 9.91,\n",
    " 10.14,\n",
    " 10.04,\n",
    " 9.96,\n",
    " 10.0,\n",
    " 10.08,\n",
    " 9.87,\n",
    " 10.1,\n",
    " 10.08,\n",
    " 10.01,\n",
    " 10.03,\n",
    " 9.96,\n",
    " 9.98,\n",
    " 10.04,\n",
    " 10.01,\n",
    " 10.06,\n",
    " 10.05,\n",
    " 10.02,\n",
    " 10.12,\n",
    " 10.19,\n",
    " 10.08,\n",
    " 10.18,\n",
    " 10.04,\n",
    " 10.01,\n",
    " 10.06,\n",
    " 9.99,\n",
    " 10.05,\n",
    " 10.0,\n",
    " 10.01,\n",
    " 9.94,\n",
    " 10.1,\n",
    " 10.01,\n",
    " 9.98,\n",
    " 10.12,\n",
    " 10.06,\n",
    " 9.98,\n",
    " 10.15,\n",
    " 10.1,\n",
    " 9.94,\n",
    " 10.06,\n",
    " 9.97,\n",
    " 10.08,\n",
    " 10.01,\n",
    " 10.07,\n",
    " 10.08,\n",
    " 10.03,\n",
    " 10.02,\n",
    " 9.96,\n",
    " 9.98,\n",
    " 10.04,\n",
    " 10.13,\n",
    " 10.07,\n",
    " 10.01,\n",
    " 10.04,\n",
    " 10.0,\n",
    " 10.01,\n",
    " 9.99,\n",
    " 9.89,\n",
    " 10.15,\n",
    " 9.98,\n",
    " 10.04,\n",
    " 10.03,\n",
    " 10.09,\n",
    " 9.7,\n",
    " 10.0,\n",
    " 10.11,\n",
    " 9.94,\n",
    " 9.97,\n",
    " 9.96,\n",
    " 9.95,\n",
    " 9.95,\n",
    " 10.08,\n",
    " 10.02,\n",
    " 9.99,\n",
    " 10.07,\n",
    " 9.91,\n",
    " 10.04,\n",
    " 9.95,\n",
    " 9.79,\n",
    " 9.94,\n",
    " 9.98,\n",
    " 9.88,\n",
    " 10.03,\n",
    " 9.91,\n",
    " 9.94,\n",
    " 9.9,\n",
    " 10.02,\n",
    " 10.02,\n",
    " 10.01,\n",
    " 10.07,\n",
    " 10.01,\n",
    " 9.98,\n",
    " 10.06,\n",
    " 10.09,\n",
    " 9.94,\n",
    " 10.07,\n",
    " 9.96,\n",
    " 10.05,\n",
    " 10.07,\n",
    " 10.19,\n",
    " 9.95,\n",
    " 9.92,\n",
    " 9.91,\n",
    " 10.06,\n",
    " 9.93,\n",
    " 10.01,\n",
    " 10.11,\n",
    " 9.93,\n",
    " 10.02,\n",
    " 10.08,\n",
    " 10.04,\n",
    " 10.05,\n",
    " 10.02,\n",
    " 10.05,\n",
    " 9.97,\n",
    " 9.98,\n",
    " 9.95,\n",
    " 9.99,\n",
    " 10.0,\n",
    " 10.02,\n",
    " 9.98,\n",
    " 9.99,\n",
    " 10.05,\n",
    " 10.09,\n",
    " 9.97,\n",
    " 10.1,\n",
    " 9.95,\n",
    " 10.08,\n",
    " 10.01,\n",
    " 10.1,\n",
    " 10.03,\n",
    " 10.04,\n",
    " 9.97,\n",
    " 9.95,\n",
    " 9.99,\n",
    " 10.01,\n",
    " 10.1,\n",
    " 10.12,\n",
    " 9.98,\n",
    " 10.02,\n",
    " 10.01,\n",
    " 10.02,\n",
    " 10.2,\n",
    " 10.13]"
   ]
  },
  {
   "cell_type": "markdown",
   "metadata": {},
   "source": [
    "# Visualization"
   ]
  },
  {
   "cell_type": "code",
   "execution_count": 18,
   "metadata": {},
   "outputs": [],
   "source": [
    "from statistics import stdev\n",
    "from math import sqrt"
   ]
  },
  {
   "cell_type": "code",
   "execution_count": 33,
   "metadata": {},
   "outputs": [],
   "source": [
    "def roll_ave(s):\n",
    "    aves = []\n",
    "    sdom = []\n",
    "    sums = 0\n",
    "\n",
    "    for i in range(len(s)):\n",
    "        sums += s[i]\n",
    "        aves.append(sums/(i+1))\n",
    "        _ = aves\n",
    "        if i > 0:\n",
    "            sdom.append(stdev(_)/sqrt(i+1))\n",
    "    return aves, sdom"
   ]
  },
  {
   "cell_type": "code",
   "execution_count": 38,
   "metadata": {},
   "outputs": [
    {
     "name": "stdout",
     "output_type": "stream",
     "text": [
      "0.07999747169371625\n"
     ]
    }
   ],
   "source": [
    "_ = s\n",
    "print(stdev(_))"
   ]
  },
  {
   "cell_type": "code",
   "execution_count": 3,
   "metadata": {},
   "outputs": [],
   "source": [
    "from matplotlib import pyplot as plt"
   ]
  },
  {
   "cell_type": "code",
   "execution_count": 34,
   "metadata": {},
   "outputs": [],
   "source": [
    "ave_val, sdoms = roll_ave(s)"
   ]
  },
  {
   "cell_type": "code",
   "execution_count": 41,
   "metadata": {},
   "outputs": [
    {
     "data": {
      "text/plain": [
       "10.01905"
      ]
     },
     "execution_count": 41,
     "metadata": {},
     "output_type": "execute_result"
    }
   ],
   "source": [
    "ave_val[-1]"
   ]
  },
  {
   "cell_type": "code",
   "execution_count": 16,
   "metadata": {},
   "outputs": [
    {
     "data": {
      "image/png": "[encoded data removed]",
      "text/plain": [
       "<Figure size 576x576 with 1 Axes>"
      ]
     },
     "metadata": {
      "needs_background": "light"
     },
     "output_type": "display_data"
    }
   ],
   "source": [
    "fig, ax = plt.subplots(figsize=(8, 8))\n",
    "\n",
    "ax.spines['right'].set_visible(False)\n",
    "ax.spines['top'].set_visible(False)\n",
    "\n",
    "plt.xlabel('Number of Trials')\n",
    "plt.ylabel('Moving Average of Measured Time')\n",
    "plt.hlines(10.0, 0, 200, alpha=0.2, color='red', linestyles='dashdot')\n",
    "\n",
    "x = range(1, len(s) + 1)\n",
    "y = ave_val\n",
    "\n",
    "plt.plot(x, y)\n",
    "plt.title('Moving Average of Measured Time\\nas a Function of the Number of Trials')\n",
    "\n",
    "plt.savefig('figures/movingave.png')"
   ]
  },
  {
   "cell_type": "code",
   "execution_count": 42,
   "metadata": {},
   "outputs": [
    {
     "data": {
      "image/png": "[encoded data removed]",
      "text/plain": [
       "<Figure size 576x576 with 1 Axes>"
      ]
     },
     "metadata": {
      "needs_background": "light"
     },
     "output_type": "display_data"
    }
   ],
   "source": [
    "fig, ax = plt.subplots(figsize=(8,8))\n",
    "\n",
    "ax.spines['right'].set_visible(False)\n",
    "ax.spines['top'].set_visible(False)\n",
    "\n",
    "plt.xlabel('Number of Trials')\n",
    "plt.ylabel('Moving Standard Deviation of the Mean')\n",
    "\n",
    "x = range(2, len(s)+1)\n",
    "y = sdoms\n",
    "\n",
    "plt.title('Standard Deviation of the Mean\\nas a Function of the Number of Trials')\n",
    "plt.plot(x, y)\n",
    "plt.savefig('figures/sdom.png')"
   ]
  }
 ],
 "metadata": {
  "interpreter": {
   "hash": "9800bf7d4ffa4f9324a299644698221575cfa2905c94c95cd9a9674aaf0ad8b0"
  },
  "kernelspec": {
   "display_name": "Python 3.8.12 64-bit ('def': conda)",
   "name": "python3"
  },
  "language_info": {
   "codemirror_mode": {
    "name": "ipython",
    "version": 3
   },
   "file_extension": ".py",
   "mimetype": "text/x-python",
   "name": "python",
   "nbconvert_exporter": "python",
   "pygments_lexer": "ipython3",
   "version": "3.8.12"
  },
  "orig_nbformat": 4
 },
 "nbformat": 4,
 "nbformat_minor": 2
}
