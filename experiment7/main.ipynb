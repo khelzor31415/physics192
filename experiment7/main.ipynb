{
 "cells": [
  {
   "cell_type": "markdown",
   "metadata": {},
   "source": [
    "# Imports and Data Upload"
   ]
  },
  {
   "cell_type": "code",
   "execution_count": 1,
   "metadata": {},
   "outputs": [],
   "source": [
    "import pandas as pd\n",
    "import numpy as np\n",
    "from matplotlib import pyplot as plt"
   ]
  },
  {
   "cell_type": "code",
   "execution_count": 2,
   "metadata": {},
   "outputs": [],
   "source": [
    "finals = pd.read_csv(\"data/final_exam.csv\")\n",
    "longexam = pd.read_csv(\"data/long_exam.csv\")\n",
    "longquiz = pd.read_csv(\"data/long_quiz.csv\")\n",
    "absences = pd.read_csv(\"data/absences.csv\")"
   ]
  },
  {
   "cell_type": "markdown",
   "metadata": {},
   "source": [
    "# Preprocessing Data"
   ]
  },
  {
   "cell_type": "markdown",
   "metadata": {},
   "source": [
    "## Final Exams"
   ]
  },
  {
   "cell_type": "code",
   "execution_count": 3,
   "metadata": {},
   "outputs": [],
   "source": [
    "finals = finals[['percent']]"
   ]
  },
  {
   "cell_type": "code",
   "execution_count": 4,
   "metadata": {},
   "outputs": [
    {
     "data": {
      "text/html": [
       "<div>\n",
       "<style scoped>\n",
       "    .dataframe tbody tr th:only-of-type {\n",
       "        vertical-align: middle;\n",
       "    }\n",
       "\n",
       "    .dataframe tbody tr th {\n",
       "        vertical-align: top;\n",
       "    }\n",
       "\n",
       "    .dataframe thead th {\n",
       "        text-align: right;\n",
       "    }\n",
       "</style>\n",
       "<table border=\"1\" class=\"dataframe\">\n",
       "  <thead>\n",
       "    <tr style=\"text-align: right;\">\n",
       "      <th></th>\n",
       "      <th>percent</th>\n",
       "    </tr>\n",
       "  </thead>\n",
       "  <tbody>\n",
       "    <tr>\n",
       "      <th>0</th>\n",
       "      <td>92.50</td>\n",
       "    </tr>\n",
       "    <tr>\n",
       "      <th>1</th>\n",
       "      <td>77.50</td>\n",
       "    </tr>\n",
       "    <tr>\n",
       "      <th>2</th>\n",
       "      <td>42.50</td>\n",
       "    </tr>\n",
       "    <tr>\n",
       "      <th>3</th>\n",
       "      <td>43.75</td>\n",
       "    </tr>\n",
       "    <tr>\n",
       "      <th>4</th>\n",
       "      <td>57.50</td>\n",
       "    </tr>\n",
       "  </tbody>\n",
       "</table>\n",
       "</div>"
      ],
      "text/plain": [
       "   percent\n",
       "0    92.50\n",
       "1    77.50\n",
       "2    42.50\n",
       "3    43.75\n",
       "4    57.50"
      ]
     },
     "execution_count": 4,
     "metadata": {},
     "output_type": "execute_result"
    }
   ],
   "source": [
    "finals.head()"
   ]
  },
  {
   "cell_type": "markdown",
   "metadata": {},
   "source": [
    "## Long Exams"
   ]
  },
  {
   "cell_type": "code",
   "execution_count": 5,
   "metadata": {},
   "outputs": [],
   "source": [
    "longexam['firstperc'] = longexam['first']/longexam['firstmax']\n",
    "longexam['secondperc'] = longexam['second']/longexam['secondmax']\n",
    "longexam['thirdperc'] = longexam['third']/longexam['thirdmax']\n",
    "longexam['true_ave'] = (longexam['firstperc'] + longexam['secondperc'] + longexam['thirdperc'])*100/3"
   ]
  },
  {
   "cell_type": "code",
   "execution_count": 6,
   "metadata": {},
   "outputs": [],
   "source": [
    "longexam = longexam[['firstperc', 'secondperc', 'thirdperc', 'true_ave']]"
   ]
  },
  {
   "cell_type": "code",
   "execution_count": 7,
   "metadata": {},
   "outputs": [
    {
     "data": {
      "text/html": [
       "<div>\n",
       "<style scoped>\n",
       "    .dataframe tbody tr th:only-of-type {\n",
       "        vertical-align: middle;\n",
       "    }\n",
       "\n",
       "    .dataframe tbody tr th {\n",
       "        vertical-align: top;\n",
       "    }\n",
       "\n",
       "    .dataframe thead th {\n",
       "        text-align: right;\n",
       "    }\n",
       "</style>\n",
       "<table border=\"1\" class=\"dataframe\">\n",
       "  <thead>\n",
       "    <tr style=\"text-align: right;\">\n",
       "      <th></th>\n",
       "      <th>firstperc</th>\n",
       "      <th>secondperc</th>\n",
       "      <th>thirdperc</th>\n",
       "      <th>true_ave</th>\n",
       "    </tr>\n",
       "  </thead>\n",
       "  <tbody>\n",
       "    <tr>\n",
       "      <th>0</th>\n",
       "      <td>0.92</td>\n",
       "      <td>0.600</td>\n",
       "      <td>0.84</td>\n",
       "      <td>78.666667</td>\n",
       "    </tr>\n",
       "    <tr>\n",
       "      <th>1</th>\n",
       "      <td>0.54</td>\n",
       "      <td>0.725</td>\n",
       "      <td>0.52</td>\n",
       "      <td>59.500000</td>\n",
       "    </tr>\n",
       "    <tr>\n",
       "      <th>2</th>\n",
       "      <td>0.46</td>\n",
       "      <td>0.625</td>\n",
       "      <td>0.56</td>\n",
       "      <td>54.833333</td>\n",
       "    </tr>\n",
       "    <tr>\n",
       "      <th>3</th>\n",
       "      <td>0.62</td>\n",
       "      <td>0.275</td>\n",
       "      <td>0.58</td>\n",
       "      <td>49.166667</td>\n",
       "    </tr>\n",
       "    <tr>\n",
       "      <th>4</th>\n",
       "      <td>0.44</td>\n",
       "      <td>0.375</td>\n",
       "      <td>0.30</td>\n",
       "      <td>37.166667</td>\n",
       "    </tr>\n",
       "  </tbody>\n",
       "</table>\n",
       "</div>"
      ],
      "text/plain": [
       "   firstperc  secondperc  thirdperc   true_ave\n",
       "0       0.92       0.600       0.84  78.666667\n",
       "1       0.54       0.725       0.52  59.500000\n",
       "2       0.46       0.625       0.56  54.833333\n",
       "3       0.62       0.275       0.58  49.166667\n",
       "4       0.44       0.375       0.30  37.166667"
      ]
     },
     "execution_count": 7,
     "metadata": {},
     "output_type": "execute_result"
    }
   ],
   "source": [
    "longexam.head()"
   ]
  },
  {
   "cell_type": "markdown",
   "metadata": {},
   "source": [
    "## Long Quizzes"
   ]
  },
  {
   "cell_type": "code",
   "execution_count": 8,
   "metadata": {},
   "outputs": [],
   "source": [
    "longquiz['firstperc'] = longquiz['first ']/longquiz['firstmax']\n",
    "longquiz['secondperc'] = longquiz['second']/longquiz['secondmax']\n",
    "longquiz['thirdperc'] = longquiz['third']/longquiz['thirdmax']\n",
    "longquiz['fourthperc'] = longquiz['fourth']/longquiz['fourthmax']\n",
    "longquiz['true_ave'] = (longquiz.firstperc + longquiz.secondperc + longquiz.thirdperc + longquiz.fourthperc)*100/4"
   ]
  },
  {
   "cell_type": "code",
   "execution_count": 9,
   "metadata": {},
   "outputs": [],
   "source": [
    "longquiz = longquiz[['firstperc', 'secondperc', 'thirdperc', 'fourthperc', 'true_ave']]"
   ]
  },
  {
   "cell_type": "code",
   "execution_count": 10,
   "metadata": {},
   "outputs": [
    {
     "data": {
      "text/html": [
       "<div>\n",
       "<style scoped>\n",
       "    .dataframe tbody tr th:only-of-type {\n",
       "        vertical-align: middle;\n",
       "    }\n",
       "\n",
       "    .dataframe tbody tr th {\n",
       "        vertical-align: top;\n",
       "    }\n",
       "\n",
       "    .dataframe thead th {\n",
       "        text-align: right;\n",
       "    }\n",
       "</style>\n",
       "<table border=\"1\" class=\"dataframe\">\n",
       "  <thead>\n",
       "    <tr style=\"text-align: right;\">\n",
       "      <th></th>\n",
       "      <th>firstperc</th>\n",
       "      <th>secondperc</th>\n",
       "      <th>thirdperc</th>\n",
       "      <th>fourthperc</th>\n",
       "      <th>true_ave</th>\n",
       "    </tr>\n",
       "  </thead>\n",
       "  <tbody>\n",
       "    <tr>\n",
       "      <th>0</th>\n",
       "      <td>0.725</td>\n",
       "      <td>0.700</td>\n",
       "      <td>0.600</td>\n",
       "      <td>0.775</td>\n",
       "      <td>70.000</td>\n",
       "    </tr>\n",
       "    <tr>\n",
       "      <th>1</th>\n",
       "      <td>0.725</td>\n",
       "      <td>0.650</td>\n",
       "      <td>0.500</td>\n",
       "      <td>0.675</td>\n",
       "      <td>63.750</td>\n",
       "    </tr>\n",
       "    <tr>\n",
       "      <th>2</th>\n",
       "      <td>0.600</td>\n",
       "      <td>0.575</td>\n",
       "      <td>0.450</td>\n",
       "      <td>0.450</td>\n",
       "      <td>51.875</td>\n",
       "    </tr>\n",
       "    <tr>\n",
       "      <th>3</th>\n",
       "      <td>0.550</td>\n",
       "      <td>0.550</td>\n",
       "      <td>0.275</td>\n",
       "      <td>0.575</td>\n",
       "      <td>48.750</td>\n",
       "    </tr>\n",
       "    <tr>\n",
       "      <th>4</th>\n",
       "      <td>0.575</td>\n",
       "      <td>0.550</td>\n",
       "      <td>0.275</td>\n",
       "      <td>0.500</td>\n",
       "      <td>47.500</td>\n",
       "    </tr>\n",
       "  </tbody>\n",
       "</table>\n",
       "</div>"
      ],
      "text/plain": [
       "   firstperc  secondperc  thirdperc  fourthperc  true_ave\n",
       "0      0.725       0.700      0.600       0.775    70.000\n",
       "1      0.725       0.650      0.500       0.675    63.750\n",
       "2      0.600       0.575      0.450       0.450    51.875\n",
       "3      0.550       0.550      0.275       0.575    48.750\n",
       "4      0.575       0.550      0.275       0.500    47.500"
      ]
     },
     "execution_count": 10,
     "metadata": {},
     "output_type": "execute_result"
    }
   ],
   "source": [
    "longquiz.head()"
   ]
  },
  {
   "cell_type": "markdown",
   "metadata": {},
   "source": [
    "## Absences"
   ]
  },
  {
   "cell_type": "code",
   "execution_count": 11,
   "metadata": {},
   "outputs": [
    {
     "data": {
      "text/html": [
       "<div>\n",
       "<style scoped>\n",
       "    .dataframe tbody tr th:only-of-type {\n",
       "        vertical-align: middle;\n",
       "    }\n",
       "\n",
       "    .dataframe tbody tr th {\n",
       "        vertical-align: top;\n",
       "    }\n",
       "\n",
       "    .dataframe thead th {\n",
       "        text-align: right;\n",
       "    }\n",
       "</style>\n",
       "<table border=\"1\" class=\"dataframe\">\n",
       "  <thead>\n",
       "    <tr style=\"text-align: right;\">\n",
       "      <th></th>\n",
       "      <th>absences</th>\n",
       "    </tr>\n",
       "  </thead>\n",
       "  <tbody>\n",
       "    <tr>\n",
       "      <th>0</th>\n",
       "      <td>4</td>\n",
       "    </tr>\n",
       "    <tr>\n",
       "      <th>1</th>\n",
       "      <td>1</td>\n",
       "    </tr>\n",
       "    <tr>\n",
       "      <th>2</th>\n",
       "      <td>4</td>\n",
       "    </tr>\n",
       "    <tr>\n",
       "      <th>3</th>\n",
       "      <td>4</td>\n",
       "    </tr>\n",
       "    <tr>\n",
       "      <th>4</th>\n",
       "      <td>0</td>\n",
       "    </tr>\n",
       "  </tbody>\n",
       "</table>\n",
       "</div>"
      ],
      "text/plain": [
       "   absences\n",
       "0         4\n",
       "1         1\n",
       "2         4\n",
       "3         4\n",
       "4         0"
      ]
     },
     "execution_count": 11,
     "metadata": {},
     "output_type": "execute_result"
    }
   ],
   "source": [
    "absences.head()"
   ]
  },
  {
   "cell_type": "markdown",
   "metadata": {},
   "source": [
    "# Data Visualization"
   ]
  },
  {
   "cell_type": "markdown",
   "metadata": {},
   "source": [
    "## Long Quiz Scores and Long Exam Scores"
   ]
  },
  {
   "cell_type": "code",
   "execution_count": 28,
   "metadata": {},
   "outputs": [],
   "source": [
    "ax_1, ax_2, ax_3 = [i*100 for i in longquiz.firstperc.tolist()], [i*100 for i in longquiz.secondperc.tolist()], [i*100 for i in longquiz.thirdperc.tolist()]\n",
    "ay1, ay2, ay3 = [i*100 for i in longexam.firstperc.tolist()], [i*100 for i in longexam.secondperc.tolist()], [i*100 for i in longexam.thirdperc.tolist()]"
   ]
  },
  {
   "cell_type": "code",
   "execution_count": 45,
   "metadata": {},
   "outputs": [
    {
     "data": {
      "text/plain": [
       "62.5"
      ]
     },
     "execution_count": 45,
     "metadata": {},
     "output_type": "execute_result"
    }
   ],
   "source": [
    "max(ax_3)"
   ]
  },
  {
   "cell_type": "code",
   "execution_count": 60,
   "metadata": {},
   "outputs": [
    {
     "data": {
      "image/png": "[encoded data removed]",
      "text/plain": [
       "<Figure size 720x360 with 3 Axes>"
      ]
     },
     "metadata": {
      "needs_background": "light"
     },
     "output_type": "display_data"
    }
   ],
   "source": [
    "fig, (ax1, ax2, ax3) = plt.subplots(1, 3, sharey=True, figsize=(10,5))\n",
    "\n",
    "ax1.scatter(ax_1, ay1)\n",
    "ax1.set_title('Long Quiz 1 Score\\nto Long Exam 1 Score')\n",
    "ax1.set_xlim(0, 100)\n",
    "ax2.scatter(ax_2, ay2)\n",
    "ax2.set_title('Long Quiz 2 Score\\nto Long Exam 2 Score')\n",
    "ax2.set_xlim(0, 100)\n",
    "ax3.scatter(ax_3, ay3)\n",
    "ax3.set_title('Long Quiz 3 Score\\nto Long Exam 3 Score')\n",
    "ax3.set_xlim(0,100)\n",
    "\n",
    "plt.suptitle('Correlation of Long Quiz Score to Long Exam Score')\n",
    "plt.tight_layout()\n",
    "# plt.subplots_adjust(wspace=10, hspace=1)\n",
    "\n",
    "plt.savefig('figures/part_a.png')"
   ]
  },
  {
   "cell_type": "markdown",
   "metadata": {},
   "source": [
    "## Average of Long Quiz Scores and Average Long Exam Scores"
   ]
  },
  {
   "cell_type": "code",
   "execution_count": 61,
   "metadata": {},
   "outputs": [],
   "source": [
    "bx = longquiz.true_ave.tolist()\n",
    "by = longexam.true_ave.tolist()"
   ]
  },
  {
   "cell_type": "code",
   "execution_count": 75,
   "metadata": {},
   "outputs": [
    {
     "data": {
      "image/png": "[encoded data removed]",
      "text/plain": [
       "<Figure size 360x360 with 1 Axes>"
      ]
     },
     "metadata": {
      "needs_background": "light"
     },
     "output_type": "display_data"
    }
   ],
   "source": [
    "fig, ax = plt.subplots(figsize=(5, 5))\n",
    "\n",
    "plt.scatter(bx, by)\n",
    "plt.ylabel('Average Percent Score in Long Exam')\n",
    "plt.xlabel('Average Percent Score in Long Quizzes')\n",
    "plt.title('Correlation of Average Long Quiz Score\\nand Average Long Exam Score')\n",
    "\n",
    "ax.spines['right'].set_visible(False)\n",
    "ax.spines['top'].set_visible(False)\n",
    "\n",
    "plt.savefig('figures/part_b.png')"
   ]
  },
  {
   "cell_type": "markdown",
   "metadata": {},
   "source": [
    "## Average of Long Quiz Scores and Final Exam Scores"
   ]
  },
  {
   "cell_type": "code",
   "execution_count": 12,
   "metadata": {},
   "outputs": [],
   "source": [
    "cx = longquiz.true_ave.tolist()\n",
    "cy = finals.percent.tolist()"
   ]
  },
  {
   "cell_type": "code",
   "execution_count": 73,
   "metadata": {},
   "outputs": [
    {
     "data": {
      "image/png": "[encoded data removed]",
      "text/plain": [
       "<Figure size 360x360 with 1 Axes>"
      ]
     },
     "metadata": {
      "needs_background": "light"
     },
     "output_type": "display_data"
    }
   ],
   "source": [
    "fig, ax = plt.subplots(figsize=(5, 5))\n",
    "ax.spines['right'].set_visible(False)\n",
    "ax.spines['top'].set_visible(False)\n",
    "\n",
    "plt.scatter(cx, cy)\n",
    "plt.ylabel('Percent Score in Final Exam')\n",
    "plt.xlabel('Average Percent Score in Long Quizzes')\n",
    "plt.title('Correlation of Average Long Quiz Score\\nand Average Final Exam Score')\n",
    "\n",
    "plt.savefig('figures/part_c.png')"
   ]
  },
  {
   "cell_type": "markdown",
   "metadata": {},
   "source": [
    "## Average of Long Exam Scores and Final Exam"
   ]
  },
  {
   "cell_type": "code",
   "execution_count": 20,
   "metadata": {},
   "outputs": [],
   "source": [
    "dx = longexam.true_ave.tolist()\n",
    "dy = finals.percent.tolist()"
   ]
  },
  {
   "cell_type": "code",
   "execution_count": 80,
   "metadata": {},
   "outputs": [
    {
     "data": {
      "image/png": "[encoded data removed]",
      "text/plain": [
       "<Figure size 360x360 with 1 Axes>"
      ]
     },
     "metadata": {
      "needs_background": "light"
     },
     "output_type": "display_data"
    },
    {
     "data": {
      "text/plain": [
       "<Figure size 432x288 with 0 Axes>"
      ]
     },
     "metadata": {},
     "output_type": "display_data"
    }
   ],
   "source": [
    "fig, ax = plt.subplots(figsize=(5, 5))\n",
    "ax.spines['right'].set_visible(False)\n",
    "ax.spines['top'].set_visible(False)\n",
    "\n",
    "plt.scatter(dx, dy)\n",
    "plt.ylabel('Percent Score in Final Exam')\n",
    "plt.xlabel('Average Percent Score in Long Exams')\n",
    "plt.title('Correlation of Average Long Exam Score\\nand Final Exam Scores')\n",
    "plt.show()\n",
    "\n",
    "plt.savefig('figures/part_d.png')"
   ]
  },
  {
   "cell_type": "markdown",
   "metadata": {},
   "source": [
    "## Student Absences and Long Quiz Scores"
   ]
  },
  {
   "cell_type": "code",
   "execution_count": 77,
   "metadata": {},
   "outputs": [],
   "source": [
    "ex = absences.absences.tolist()\n",
    "ey1, ey2, ey3, ey4 = [i*100 for i in longquiz.firstperc.tolist()], [i*100 for i in longquiz.secondperc.tolist()], [i*100 for i in longquiz.thirdperc.tolist()], [i*100 for i in longquiz.fourthperc.tolist()]"
   ]
  },
  {
   "cell_type": "code",
   "execution_count": 90,
   "metadata": {},
   "outputs": [
    {
     "data": {
      "image/png": "[encoded data removed]",
      "text/plain": [
       "<Figure size 360x360 with 4 Axes>"
      ]
     },
     "metadata": {
      "needs_background": "light"
     },
     "output_type": "display_data"
    }
   ],
   "source": [
    "fig, axes = plt.subplots(2, 2, sharey=True, figsize=(5,5), sharex=True)\n",
    "\n",
    "axes[0][0].scatter(ex, ey1)\n",
    "axes[0][0].set_title('Number of Absences\\nto Long Quiz 1 Score')\n",
    "\n",
    "\n",
    "axes[0][1].scatter(ex, ey2)\n",
    "axes[0][1].set_title('Number of Absences\\nto Long Quiz 2 Score')\n",
    "\n",
    "\n",
    "axes[1][0].scatter(ex, ey3)\n",
    "axes[1][0].set_title('Number of Absences\\nto Long Quiz 3 Score')\n",
    "\n",
    "\n",
    "axes[1][1].scatter(ex, ey4)\n",
    "axes[1][1].set_title('Number of Absences\\nto Long Quiz 4 Score')\n",
    "\n",
    "plt.suptitle('Correlation of Number of Absences\\nto Long Quiz Score')\n",
    "plt.tight_layout()\n",
    "plt.savefig('figures/part_e.png')"
   ]
  },
  {
   "cell_type": "markdown",
   "metadata": {},
   "source": [
    "## Student Absences and Long Exam Scores"
   ]
  },
  {
   "cell_type": "code",
   "execution_count": 91,
   "metadata": {},
   "outputs": [],
   "source": [
    "fx = absences.absences.tolist()\n",
    "fy1, fy2, fy3 = [i*100 for i in longexam.firstperc.tolist()], [i*100 for i in longexam.secondperc.tolist()], [i*100 for i in longexam.thirdperc.tolist()]"
   ]
  },
  {
   "cell_type": "code",
   "execution_count": 98,
   "metadata": {},
   "outputs": [
    {
     "data": {
      "image/png": "[encoded data removed]",
      "text/plain": [
       "<Figure size 720x360 with 3 Axes>"
      ]
     },
     "metadata": {
      "needs_background": "light"
     },
     "output_type": "display_data"
    }
   ],
   "source": [
    "fig, axes = plt.subplots(1, 3, sharey=True, figsize=(10,5), constrained_layout=True)\n",
    "\n",
    "axes[0].scatter(fx, fy1)\n",
    "axes[0].set_title('Number of Absences\\nto Long Exam 1 Percent Score')\n",
    "\n",
    "\n",
    "axes[1].scatter(fx, fy2)\n",
    "axes[1].set_title('Number of Absences\\nto Long Exam 2 Percent Score')\n",
    "\n",
    "\n",
    "axes[2].scatter(fx, fy3)\n",
    "axes[2].set_title('Number of Absences\\nto Long Exam 3 Percent Score')\n",
    "\n",
    "plt.suptitle('Correlation of Number of Absences\\nto Long Exam Score')\n",
    "\n",
    "plt.savefig('figures/part_f.png')"
   ]
  },
  {
   "cell_type": "markdown",
   "metadata": {},
   "source": [
    "## Student Absences and Average of Long Quiz Scores"
   ]
  },
  {
   "cell_type": "code",
   "execution_count": 100,
   "metadata": {},
   "outputs": [],
   "source": [
    "gx = absences.absences.tolist()\n",
    "gy = longquiz.true_ave.tolist()"
   ]
  },
  {
   "cell_type": "code",
   "execution_count": 101,
   "metadata": {},
   "outputs": [
    {
     "data": {
      "image/png": "[encoded data removed]",
      "text/plain": [
       "<Figure size 360x360 with 1 Axes>"
      ]
     },
     "metadata": {
      "needs_background": "light"
     },
     "output_type": "display_data"
    }
   ],
   "source": [
    "fig, ax = plt.subplots(figsize=(5, 5))\n",
    "ax.spines['right'].set_visible(False)\n",
    "ax.spines['top'].set_visible(False)\n",
    "\n",
    "plt.scatter(gx, gy)\n",
    "plt.ylabel('Average Percent Score in Long Quizzes')\n",
    "plt.xlabel('Number of Absences')\n",
    "plt.title('Correlation of Student Absences and Long Quiz Average')\n",
    "\n",
    "plt.savefig('figures/part_g.png')"
   ]
  },
  {
   "cell_type": "markdown",
   "metadata": {},
   "source": [
    "## Student Absences and Average of Long Exam Scores"
   ]
  },
  {
   "cell_type": "code",
   "execution_count": 102,
   "metadata": {},
   "outputs": [],
   "source": [
    "hx = absences.absences.tolist()\n",
    "hy = longexam.true_ave.tolist()"
   ]
  },
  {
   "cell_type": "code",
   "execution_count": 103,
   "metadata": {},
   "outputs": [
    {
     "data": {
      "image/png": "[encoded data removed]",
      "text/plain": [
       "<Figure size 360x360 with 1 Axes>"
      ]
     },
     "metadata": {
      "needs_background": "light"
     },
     "output_type": "display_data"
    }
   ],
   "source": [
    "fig, ax = plt.subplots(figsize=(5, 5))\n",
    "ax.spines['right'].set_visible(False)\n",
    "ax.spines['top'].set_visible(False)\n",
    "\n",
    "plt.scatter(hx, hy)\n",
    "plt.ylabel('Average Percent Score in Long Exams')\n",
    "plt.xlabel('Number of Absences')\n",
    "plt.title('Correlation of Student Absences and Long Exam Average')\n",
    "\n",
    "plt.savefig('figures/part_h.png')"
   ]
  },
  {
   "cell_type": "markdown",
   "metadata": {},
   "source": [
    "## Student Absences and Final Exam Scores"
   ]
  },
  {
   "cell_type": "code",
   "execution_count": 105,
   "metadata": {},
   "outputs": [],
   "source": [
    "ix = absences.absences.tolist()\n",
    "iy = finals.percent.tolist()"
   ]
  },
  {
   "cell_type": "code",
   "execution_count": 106,
   "metadata": {},
   "outputs": [
    {
     "data": {
      "image/png": "[encoded data removed]",
      "text/plain": [
       "<Figure size 360x360 with 1 Axes>"
      ]
     },
     "metadata": {
      "needs_background": "light"
     },
     "output_type": "display_data"
    }
   ],
   "source": [
    "fig, ax = plt.subplots(figsize=(5, 5))\n",
    "ax.spines['right'].set_visible(False)\n",
    "ax.spines['top'].set_visible(False)\n",
    "\n",
    "plt.scatter(ix, iy)\n",
    "plt.ylabel('Percent Score in Final Exam')\n",
    "plt.xlabel('Number of Absences')\n",
    "plt.title('Correlation of Student Absences and Final Exam Scores')\n",
    "\n",
    "plt.savefig('figures/part_i.png')"
   ]
  }
 ],
 "metadata": {
  "interpreter": {
   "hash": "9800bf7d4ffa4f9324a299644698221575cfa2905c94c95cd9a9674aaf0ad8b0"
  },
  "kernelspec": {
   "display_name": "Python 3.8.12 64-bit ('def': conda)",
   "name": "python3"
  },
  "language_info": {
   "codemirror_mode": {
    "name": "ipython",
    "version": 3
   },
   "file_extension": ".py",
   "mimetype": "text/x-python",
   "name": "python",
   "nbconvert_exporter": "python",
   "pygments_lexer": "ipython3",
   "version": "3.8.12"
  },
  "orig_nbformat": 4
 },
 "nbformat": 4,
 "nbformat_minor": 2
}
